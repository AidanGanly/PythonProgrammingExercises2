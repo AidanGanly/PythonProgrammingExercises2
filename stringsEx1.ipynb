{
 "cells": [
  {
   "cell_type": "markdown",
   "metadata": {},
   "source": [
    "# Strings Excersise 1"
   ]
  },
  {
   "cell_type": "code",
   "execution_count": 11,
   "metadata": {},
   "outputs": [],
   "source": [
    "#create a variable with the data type string\n",
    "blackadder = \"We are in the stickiest situation, since Sticky the stick insect got stuck on a sticky bun\" #double quote marks means text data\n",
    "userName = \"S.Baldrick\"\n",
    "\n",
    "#create a variable with the data type interger\n",
    "age = "
   ]
  },
  {
   "cell_type": "code",
   "execution_count": 16,
   "metadata": {},
   "outputs": [
    {
     "name": "stdout",
     "output_type": "stream",
     "text": [
      "We are in the stickiest situation, since Sticky the stick insect got stuck on a sticky bun\n",
      "S.Baldrick, we are in the stickiest situation, since sticky the stick insect got stuck on a sticky bun\n",
      "S.Baldrick 32\n"
     ]
    }
   ],
   "source": [
    "#functions that I can use to output input and do other things with strings\n",
    "#output\n",
    "print(blackadder) #print variable blackadder\n",
    "print(userName+\",\",blackadder.lower())#print variable userName with a comma and the variable blackadder which is set to lowercase\n",
    "\n",
    "print(userName,str(age)) #print variable userName with the variable age converted to a string data type using str()"
   ]
  }
 ],
 "metadata": {
  "kernelspec": {
   "display_name": "Python 3",
   "language": "python",
   "name": "python3"
  },
  "language_info": {
   "codemirror_mode": {
    "name": "ipython",
    "version": 3
   },
   "file_extension": ".py",
   "mimetype": "text/x-python",
   "name": "python",
   "nbconvert_exporter": "python",
   "pygments_lexer": "ipython3",
   "version": "3.5.2"
  }
 },
 "nbformat": 4,
 "nbformat_minor": 2
}
