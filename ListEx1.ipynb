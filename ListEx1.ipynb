{
 "cells": [
  {
   "cell_type": "code",
   "execution_count": 5,
   "metadata": {},
   "outputs": [
    {
     "name": "stdout",
     "output_type": "stream",
     "text": [
      "['Edmund Blackadder', 'Baldrick', 'Percy', 'George', 'Melchett', 'Queenie', 'Nursey', 'Captain Darling']\n",
      "[1, 2, 3, 4, 5, 6, 7, 8, 9]\n",
      "Edmund Blackadder\n",
      "Baldrick\n",
      "Percy\n",
      "George\n",
      "Melchett\n",
      "Queenie\n",
      "Nursey\n",
      "Captain Darling\n",
      "Edmund Blackadder and Baldrick and Percy and George and Melchett and Queenie and Nursey and Captain Darling and "
     ]
    }
   ],
   "source": [
    "blackadderCharacters = [\"Edmund Blackadder\", \"Baldrick\", \"Percy\", \"George\", \"Melchett\", \"Queenie\", \"Nursey\", \"Captain Darling\"]\n",
    "numberList = [1,2,3,4,5,6,7,8,9]\n",
    "\n",
    "print(blackadderCharacters)\n",
    "print(numberList)\n",
    "\n",
    "#output the list, one item at a time\n",
    "#for loop, iterate through list\n",
    "for i in blackadderCharacters:\n",
    "    print(i)\n",
    "    \n",
    "for i in blackadderCharacters:\n",
    "    print(i,end=\" and \")"
   ]
  },
  {
   "cell_type": "code",
   "execution_count": 8,
   "metadata": {},
   "outputs": [
    {
     "name": "stdout",
     "output_type": "stream",
     "text": [
      "Edmund Blackadder\n",
      "Percy\n",
      "Melchett\n",
      "Nursey\n"
     ]
    }
   ],
   "source": [
    "for i in range(int(len(blackadderCharacters)/2)):\n",
    "    print(blackadderCharacters[i*2])"
   ]
  }
 ],
 "metadata": {
  "kernelspec": {
   "display_name": "Python 3",
   "language": "python",
   "name": "python3"
  },
  "language_info": {
   "codemirror_mode": {
    "name": "ipython",
    "version": 3
   },
   "file_extension": ".py",
   "mimetype": "text/x-python",
   "name": "python",
   "nbconvert_exporter": "python",
   "pygments_lexer": "ipython3",
   "version": "3.5.2"
  }
 },
 "nbformat": 4,
 "nbformat_minor": 2
}
