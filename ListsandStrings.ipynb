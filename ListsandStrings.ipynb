{
 "cells": [
  {
   "cell_type": "code",
   "execution_count": 34,
   "metadata": {
    "scrolled": true
   },
   "outputs": [
    {
     "name": "stdout",
     "output_type": "stream",
     "text": [
      "Edmund Blackadder\n",
      "Percy\n",
      "Melchett\n",
      "Nursey\n"
     ]
    }
   ],
   "source": [
    "#list of names\n",
    "blackadderCharacters = [\"Edmund Blackadder\", \"Baldrick\", \"Percy\", \"George\", \"Melchett\", \"Queenie\", \"Nursey\", \"Captain Darling\"]\n",
    "\n",
    "#for loop that counts the length of the blackadderCharacters then divides it by 2 so I don't get an error when printing multiples of 2\n",
    "for i in range(int(len(blackadderCharacters)/2)):\n",
    "    print(blackadderCharacters[i*2])"
   ]
  },
  {
   "cell_type": "code",
   "execution_count": 9,
   "metadata": {},
   "outputs": [
    {
     "name": "stdout",
     "output_type": "stream",
     "text": [
      "Neil\n"
     ]
    }
   ],
   "source": [
    "youngOnes = [\"Neil\",\"Rick\",\"Nigel\",\"Vyvyan\"]\n",
    "\n",
    "import random #import random module\n",
    "print(youngOnes[random.randint(0,len(youngOnes)-1)]) #output a random value within the youngOnes array\n",
    "  "
   ]
  },
  {
   "cell_type": "code",
   "execution_count": 43,
   "metadata": {},
   "outputs": [
    {
     "name": "stdout",
     "output_type": "stream",
     "text": [
      "Bill Oddie\n",
      "Graeme Garden\n",
      "Tim Brooke-Taylor\n"
     ]
    }
   ],
   "source": [
    "goodies = [\"Tim Brooke-Taylor\",\"Graeme Garden\",\"Bill Oddie\"]\n",
    "for i in range(int(len(goodies))):\n",
    "    print(goodies[int(len(goodies)-1)-i])\n",
    "  "
   ]
  },
  {
   "cell_type": "code",
   "execution_count": 26,
   "metadata": {},
   "outputs": [
    {
     "name": "stdout",
     "output_type": "stream",
     "text": [
      "r\n",
      "n\n",
      "e\n"
     ]
    }
   ],
   "source": [
    "itCrowd = [\"Maurice Moss\",\"Jen Barber\",\"Roy\"]\n",
    "\n",
    "for i in range(int(len(goodies))):\n",
    "    print(goodies[i][int(len(goodies[i])-1)])\n",
    "  "
   ]
  },
  {
   "cell_type": "code",
   "execution_count": 36,
   "metadata": {},
   "outputs": [
    {
     "name": "stdout",
     "output_type": "stream",
     "text": [
      "p\n",
      "r\n",
      "r\n"
     ]
    }
   ],
   "source": [
    "peepShow = [\"Super Hans\",\"Mark Corrigan\",\"Jeremy Usborne\"]\n",
    "\n",
    "for i in range(int(len(peepShow))):\n",
    "    print(peepShow[i][random.randint(0,len(peepShow)-1)])\n",
    "  "
   ]
  },
  {
   "cell_type": "code",
   "execution_count": 45,
   "metadata": {},
   "outputs": [
    {
     "name": "stdout",
     "output_type": "stream",
     "text": [
      "[16, 13, 12, 15, 14, 12, 11, 20, 12, 19, 12, 12, 17, 12, 12] unaltered\n",
      "[16, 13, 12, 15, 14, 12, 11, 20, 5, 12, 19, 12, 12, 17, 12, 12] insert a five inbetween twenty and twelve\n",
      "[16, 13, 12, 15, 14, 12, 11, 20, 5, 12, 19, 12, 12, 17, 12, 12, 7, 7, 7] add three sevens @ end\n",
      "[16, 13, 12, 15, 14, 12, 20, 5, 12, 19, 12, 12, 17, 12, 12, 7, 7, 7] remove eleven https://i.imgur.com/71UPByy.gif\n",
      "[17, 13, 12, 15, 14, 12, 20, 5, 12, 19, 12, 12, 16, 12, 12, 7, 7, 7] swap\n",
      "[17, 13, 15, 14, 20, 5, 19, 16, 7, 7, 7] remove all twelves\n"
     ]
    }
   ],
   "source": [
    "temperature=[16,13,12,15,14,12,11,20,12,19,12,12,17,12,12]\n",
    "print(temperature, \"unaltered\")\n",
    "\n",
    "temperature.insert(8,5)\n",
    "print(temperature, \"insert a five inbetween twenty and twelve\")\n",
    "\n",
    "temperature.extend([7,7,7])\n",
    "print(temperature, \"add three sevens @ end\")\n",
    "\n",
    "temperature.remove(11)\n",
    "print(temperature, \"remove eleven https://i.imgur.com/71UPByy.gif\")\n",
    "\n",
    "for value,i in enumerate(temperature):\n",
    "    if i==16:\n",
    "        temperature[value]=17\n",
    "    if i==17:\n",
    "        temperature[value]=16\n",
    "print(temperature, \"swap\")\n",
    "\n",
    "for i in range(temperature.count(12)):\n",
    "    temperature.remove(12)\n",
    "print(temperature, \"remove all twelves\")"
   ]
  },
  {
   "cell_type": "code",
   "execution_count": 3,
   "metadata": {},
   "outputs": [
    {
     "name": "stdout",
     "output_type": "stream",
     "text": [
      "['a', 'b', 'c', 'd', 'e', 'f', 'g', 'h', 'i', 'j', 'k', 'l', 'm', 'n', 'o', 'p', 'q', 'r', 's', 't', 'u', 'v', 'w', 'x', 'y', 'z'] unaltered\n",
      "The random letter, O, is in the word pseudopseudohypoparathyroidism 4 time(s)\n"
     ]
    }
   ],
   "source": [
    "import string\n",
    "import random\n",
    "alphabet=list(string.ascii_lowercase)\n",
    "print(alphabet,\"unaltered\")\n",
    "word = \"PSEUDOPSEUDOHYPOPARATHYROIDISM\".lower()\n",
    "\n",
    "randomLetter=alphabet[random.randint(0,len(alphabet))]\n",
    "if word.count(randomLetter) == 0:\n",
    "    print(\"The random letter,\",randomLetter.upper()+\",\",\"isn't in the word\",word)\n",
    "else:\n",
    "    print(\"The random letter,\",randomLetter.upper()+\",\",\"is in the word\",word,word.count(randomLetter),\"time(s)\")"
   ]
  },
  {
   "cell_type": "code",
   "execution_count": 9,
   "metadata": {},
   "outputs": [
    {
     "name": "stdout",
     "output_type": "stream",
     "text": [
      "Enter a basic word intergers\n",
      "['i', 'n', 't', 'e', 'r', 'g', 'e', 'r', 's'] unaltered\n",
      "1nterger59\n"
     ]
    }
   ],
   "source": [
    "password=list(input(\"Enter a basic word \").lower())\n",
    "print(password, \"unaltered\")\n",
    "\n",
    "for value,i in enumerate(password):\n",
    "    if i==\"i\":\n",
    "        password[value]=\"1\"\n",
    "    if i==\"s\":\n",
    "        password[value]=\"5\"\n",
    "password.append(str(len(password)))\n",
    "print(\"\".join(password))"
   ]
  },
  {
   "cell_type": "code",
   "execution_count": 33,
   "metadata": {},
   "outputs": [
    {
     "name": "stdout",
     "output_type": "stream",
     "text": [
      "['herrera', 'ainslie', 'simon', 'defoe', 'williams', 'jones', 'gershwin']\n",
      "['ana', 'ben', 'carli', 'daniel', 'elaine', 'fred', 'george']\n"
     ]
    }
   ],
   "source": [
    "myList = ['ana,herrera', 'ben,ainslie', 'carli,simon', 'daniel,defoe', 'elaine,williams', 'fred,jones', 'george,gershwin,']\n",
    "\n",
    "myList = [i.split(\",\")[1] for i in myList] \n",
    "\n",
    "print(myList)\n",
    "\n",
    "myList = ['ana,herrera', 'ben,ainslie', 'carli,simon', 'daniel,defoe', 'elaine,williams', 'fred,jones', 'george,gershwin,']\n",
    "\n",
    "myList = [i.split(\",\")[0] for i in myList] \n",
    "\n",
    "print(myList)"
   ]
  }
 ],
 "metadata": {
  "kernelspec": {
   "display_name": "Python 3",
   "language": "python",
   "name": "python3"
  },
  "language_info": {
   "codemirror_mode": {
    "name": "ipython",
    "version": 3
   },
   "file_extension": ".py",
   "mimetype": "text/x-python",
   "name": "python",
   "nbconvert_exporter": "python",
   "pygments_lexer": "ipython3",
   "version": "3.5.2"
  }
 },
 "nbformat": 4,
 "nbformat_minor": 2
}
