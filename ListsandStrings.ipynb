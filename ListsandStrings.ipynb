{
 "cells": [
  {
   "cell_type": "markdown",
   "metadata": {},
   "source": [
    "https://repl.it/Nhdd/1"
   ]
  },
  {
   "cell_type": "code",
   "execution_count": 4,
   "metadata": {
    "scrolled": true
   },
   "outputs": [
    {
     "name": "stdout",
     "output_type": "stream",
     "text": [
      "Edmund Blackadder\n",
      "Percy\n",
      "Melchett\n",
      "Nursey\n"
     ]
    }
   ],
   "source": [
    "blackadderCharacters = [\"Edmund Blackadder\", \"Baldrick\", \"Percy\", \"George\", \"Melchett\", \"Queenie\", \"Nursey\", \"Captain Darling\"]\n",
    "\n",
    "\n",
    "for i in range(int(len(blackadderCharacters)/2)):\n",
    "  print(blackadderCharacters[i*2])"
   ]
  },
  {
   "cell_type": "code",
   "execution_count": 9,
   "metadata": {},
   "outputs": [
    {
     "name": "stdout",
     "output_type": "stream",
     "text": [
      "Neil\n"
     ]
    }
   ],
   "source": [
    "youngOnes = [\"Neil\",\"Rick\",\"Nigel\",\"Vyvyan\"]\n",
    "\n",
    "import random\n",
    "print(youngOnes[random.randint(0,len(youngOnes)-1)])\n",
    "  "
   ]
  },
  {
   "cell_type": "code",
   "execution_count": 43,
   "metadata": {},
   "outputs": [
    {
     "name": "stdout",
     "output_type": "stream",
     "text": [
      "Bill Oddie\n",
      "Graeme Garden\n",
      "Tim Brooke-Taylor\n"
     ]
    }
   ],
   "source": [
    "goodies = [\"Tim Brooke-Taylor\",\"Graeme Garden\",\"Bill Oddie\"]\n",
    "for i in range(int(len(goodies))):\n",
    "    print(goodies[int(len(goodies)-1)-i])\n",
    "  "
   ]
  },
  {
   "cell_type": "code",
   "execution_count": 26,
   "metadata": {},
   "outputs": [
    {
     "name": "stdout",
     "output_type": "stream",
     "text": [
      "r\n",
      "n\n",
      "e\n"
     ]
    }
   ],
   "source": [
    "itCrowd = [\"Maurice Moss\",\"Jen Barber\",\"Roy\"]\n",
    "\n",
    "for i in range(int(len(goodies))):\n",
    "    print(goodies[i][int(len(goodies[i])-1)])\n",
    "  "
   ]
  },
  {
   "cell_type": "code",
   "execution_count": 36,
   "metadata": {},
   "outputs": [
    {
     "name": "stdout",
     "output_type": "stream",
     "text": [
      "p\n",
      "r\n",
      "r\n"
     ]
    }
   ],
   "source": [
    "peepShow = [\"Super Hans\",\"Mark Corrigan\",\"Jeremy Usborne\"]\n",
    "\n",
    "for i in range(int(len(peepShow))):\n",
    "    print(peepShow[i][random.randint(0,len(peepShow)-1)])\n",
    "  "
   ]
  },
  {
   "cell_type": "code",
   "execution_count": 45,
   "metadata": {},
   "outputs": [
    {
     "name": "stdout",
     "output_type": "stream",
     "text": [
      "[16, 13, 12, 15, 14, 12, 11, 20, 12, 19, 12, 12, 17, 12, 12] unaltered\n",
      "[16, 13, 12, 15, 14, 12, 11, 20, 5, 12, 19, 12, 12, 17, 12, 12] insert a five inbetween twenty and twelve\n",
      "[16, 13, 12, 15, 14, 12, 11, 20, 5, 12, 19, 12, 12, 17, 12, 12, 7, 7, 7] add three sevens @ end\n",
      "[16, 13, 12, 15, 14, 12, 20, 5, 12, 19, 12, 12, 17, 12, 12, 7, 7, 7] remove eleven https://i.imgur.com/71UPByy.gif\n",
      "[17, 13, 12, 15, 14, 12, 20, 5, 12, 19, 12, 12, 16, 12, 12, 7, 7, 7] swap\n",
      "[17, 13, 15, 14, 20, 5, 19, 16, 7, 7, 7] remove all twelves\n"
     ]
    }
   ],
   "source": [
    "temperature=[16,13,12,15,14,12,11,20,12,19,12,12,17,12,12]\n",
    "print(temperature, \"unaltered\")\n",
    "\n",
    "temperature.insert(8,5)\n",
    "print(temperature, \"insert a five inbetween twenty and twelve\")\n",
    "\n",
    "temperature.extend([7,7,7])\n",
    "print(temperature, \"add three sevens @ end\")\n",
    "\n",
    "temperature.remove(11)\n",
    "print(temperature, \"remove eleven https://i.imgur.com/71UPByy.gif\")\n",
    "\n",
    "for value,i in enumerate(temperature):\n",
    "    if i==16:\n",
    "        temperature[value]=17\n",
    "    if i==17:\n",
    "        temperature[value]=16\n",
    "print(temperature, \"swap\")\n",
    "\n",
    "for i in range(temperature.count(12)):\n",
    "    temperature.remove(12)\n",
    "print(temperature, \"remove all twelves\")"
   ]
  },
  {
   "cell_type": "code",
   "execution_count": 53,
   "metadata": {},
   "outputs": [
    {
     "name": "stdout",
     "output_type": "stream",
     "text": [
      "['a', 'b', 'c', 'd', 'e', 'f', 'g', 'h', 'i', 'j', 'k', 'l', 'm', 'n', 'o', 'p', 'q', 'r', 's', 't', 'u', 'v', 'w', 'x', 'y', 'z'] unaltered\n",
      "The random letter, T, is in the word pseudopseudohypoparathyroidism 1 times\n"
     ]
    }
   ],
   "source": [
    "import string\n",
    "import random\n",
    "alphabet=list(string.ascii_lowercase)\n",
    "print(alphabet,\"unaltered\")\n",
    "word = \"PSEUDOPSEUDOHYPOPARATHYROIDISM\".lower()\n",
    "\n",
    "randomLetter=alphabet[random.randint(0,len(alphabet))]\n",
    "if word.count(randomLetter) == 0:\n",
    "  print(\"The random letter,\",randomLetter.upper()+\",\",\"isn't in the word\",word)\n",
    "else:\n",
    "  print(\"The random letter,\",randomLetter.upper()+\",\",\"is in the word\",word,word.count(randomLetter),\"times\")"
   ]
  }
 ],
 "metadata": {
  "kernelspec": {
   "display_name": "Python 3",
   "language": "python",
   "name": "python3"
  },
  "language_info": {
   "codemirror_mode": {
    "name": "ipython",
    "version": 3
   },
   "file_extension": ".py",
   "mimetype": "text/x-python",
   "name": "python",
   "nbconvert_exporter": "python",
   "pygments_lexer": "ipython3",
   "version": "3.5.2"
  }
 },
 "nbformat": 4,
 "nbformat_minor": 2
}
